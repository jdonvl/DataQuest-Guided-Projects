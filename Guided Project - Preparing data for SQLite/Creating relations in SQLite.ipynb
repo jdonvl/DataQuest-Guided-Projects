{
 "cells": [
  {
   "cell_type": "markdown",
   "metadata": {},
   "source": [
    "### Introduction to the data"
   ]
  },
  {
   "cell_type": "code",
   "execution_count": 15,
   "metadata": {
    "collapsed": false
   },
   "outputs": [
    {
     "name": "stdout",
     "output_type": "stream",
     "text": [
      "(0, 'false', 'INTEGER', 0, None, 0)\n",
      "(1, 'Year', 'INTEGER', 0, None, 0)\n",
      "(2, 'Category', 'TEXT', 0, None, 0)\n",
      "(3, 'Nominee', 'TEXT', 0, None, 0)\n",
      "(4, 'Won', 'INTEGER', 0, None, 0)\n",
      "(5, 'Movie', 'TEXT', 0, None, 0)\n",
      "(6, 'Character', 'TEXT', 0, None, 0)\n"
     ]
    }
   ],
   "source": [
    "import sqlite3\n",
    "\n",
    "conn = sqlite3.connect(\"nominations.db\")\n",
    "schema = conn.execute(\"pragma table_info(nominations);\").fetchall()\n",
    "for r in schema:\n",
    "    print(r)"
   ]
  },
  {
   "cell_type": "code",
   "execution_count": 17,
   "metadata": {
    "collapsed": false
   },
   "outputs": [
    {
     "name": "stdout",
     "output_type": "stream",
     "text": [
      "(0, 2010, 'Actor -- Leading Role', 'Javier Bardem', 0, 'Biutiful', 'Uxbal')\n",
      "(1, 2010, 'Actor -- Leading Role', 'Jeff Bridges', 0, 'True Grit', 'Rooster Cogburn')\n",
      "(2, 2010, 'Actor -- Leading Role', 'Jesse Eisenberg', 0, 'The Social Network', 'Mark Zuckerberg')\n",
      "(3, 2010, 'Actor -- Leading Role', 'Colin Firth', 1, \"The King's Speech\", 'King George VI')\n",
      "(4, 2010, 'Actor -- Leading Role', 'James Franco', 0, '127 Hours', 'Aron Ralston')\n",
      "(5, 2010, 'Actor -- Supporting Role', 'Christian Bale', 1, 'The Fighter', 'Dicky Eklund')\n",
      "(6, 2010, 'Actor -- Supporting Role', 'John Hawkes', 0, \"Winter's Bone\", 'Teardrop')\n",
      "(7, 2010, 'Actor -- Supporting Role', 'Jeremy Renner', 0, 'The Town', 'James Coughlin')\n",
      "(8, 2010, 'Actor -- Supporting Role', 'Mark Ruffalo', 0, 'The Kids Are All Right', 'Paul')\n",
      "(9, 2010, 'Actor -- Supporting Role', 'Geoffrey Rush', 0, \"The King's Speech\", 'Lionel Logue')\n"
     ]
    }
   ],
   "source": [
    "first_ten = conn.execute(\"SELECT * FROM nominations limit 10;\").fetchall()\n",
    "for r in first_ten:\n",
    "    print(r)"
   ]
  },
  {
   "cell_type": "markdown",
   "metadata": {},
   "source": [
    "### Execute Queries"
   ]
  },
  {
   "cell_type": "code",
   "execution_count": 22,
   "metadata": {
    "collapsed": false
   },
   "outputs": [
    {
     "data": {
      "text/plain": [
       "<sqlite3.Cursor at 0x4c6fdc0>"
      ]
     },
     "execution_count": 22,
     "metadata": {},
     "output_type": "execute_result"
    }
   ],
   "source": [
    "conn.execute(\"CREATE TABLE ceremonies( \\\n",
    "             id integer, \\\n",
    "             Year integer, \\\n",
    "             Host text, \\\n",
    "             PRIMARY KEY (id));\")"
   ]
  },
  {
   "cell_type": "code",
   "execution_count": 23,
   "metadata": {
    "collapsed": true
   },
   "outputs": [],
   "source": [
    "years_hosts = [(2010, \"Steve Martin\"),\n",
    "               (2009, \"Hugh Jackman\"),\n",
    "               (2008, \"Jon Stewart\"),\n",
    "               (2007, \"Ellen DeGeneres\"),\n",
    "               (2006, \"Jon Stewart\"),\n",
    "               (2005, \"Chris Rock\"),\n",
    "               (2004, \"Billy Crystal\"),\n",
    "               (2003, \"Steve Martin\"),\n",
    "               (2002, \"Whoopi Goldberg\"),\n",
    "               (2001, \"Steve Martin\"),\n",
    "               (2000, \"Billy Crystal\"),\n",
    "            ]"
   ]
  },
  {
   "cell_type": "code",
   "execution_count": 24,
   "metadata": {
    "collapsed": false
   },
   "outputs": [
    {
     "data": {
      "text/plain": [
       "<sqlite3.Cursor at 0x4bd9340>"
      ]
     },
     "execution_count": 24,
     "metadata": {},
     "output_type": "execute_result"
    }
   ],
   "source": [
    "insert_query = \"INSERT INTO ceremonies (Year, Host) VALUES (?,?);\"\n",
    "conn.executemany(insert_query, years_hosts)"
   ]
  },
  {
   "cell_type": "code",
   "execution_count": 26,
   "metadata": {
    "collapsed": false
   },
   "outputs": [
    {
     "name": "stdout",
     "output_type": "stream",
     "text": [
      "(1, 2010, 'Steve Martin')\n",
      "(2, 2009, 'Hugh Jackman')\n",
      "(3, 2008, 'Jon Stewart')\n",
      "(4, 2007, 'Ellen DeGeneres')\n",
      "(5, 2006, 'Jon Stewart')\n",
      "(6, 2005, 'Chris Rock')\n",
      "(7, 2004, 'Billy Crystal')\n",
      "(8, 2003, 'Steve Martin')\n",
      "(9, 2002, 'Whoopi Goldberg')\n",
      "(10, 2001, 'Steve Martin')\n",
      "(0, 'id', 'integer', 0, None, 1)\n",
      "(1, 'Year', 'integer', 0, None, 0)\n",
      "(2, 'Host', 'text', 0, None, 0)\n"
     ]
    }
   ],
   "source": [
    "first_ten_c = conn.execute(\"SELECT * FROM ceremonies limit 10;\").fetchall()\n",
    "for r in first_ten_c:\n",
    "    print(r)\n",
    "    \n",
    "schema_c = conn.execute(\"pragma table_info(ceremonies);\").fetchall()\n",
    "for r in schema_c:\n",
    "    print(r)"
   ]
  },
  {
   "cell_type": "code",
   "execution_count": 27,
   "metadata": {
    "collapsed": false
   },
   "outputs": [
    {
     "data": {
      "text/plain": [
       "<sqlite3.Cursor at 0x4c6fea0>"
      ]
     },
     "execution_count": 27,
     "metadata": {},
     "output_type": "execute_result"
    }
   ],
   "source": [
    "conn.execute(\"PRAGMA foreign_keys = ON;\")"
   ]
  },
  {
   "cell_type": "code",
   "execution_count": 33,
   "metadata": {
    "collapsed": false
   },
   "outputs": [
    {
     "data": {
      "text/plain": [
       "<sqlite3.Cursor at 0x4c6fce0>"
      ]
     },
     "execution_count": 33,
     "metadata": {},
     "output_type": "execute_result"
    }
   ],
   "source": [
    "conn.execute(\"CREATE TABLE nominations_two( \\\n",
    "             id integer primary key, \\\n",
    "             category text, \\\n",
    "             nominee text, \\\n",
    "             movie text, \\\n",
    "             character text, \\\n",
    "             won integer, \\\n",
    "             ceremony_id integer, \\\n",
    "             FOREIGN KEY(ceremony_id) REFERENCES ceremonies(id));\")"
   ]
  },
  {
   "cell_type": "code",
   "execution_count": 43,
   "metadata": {
    "collapsed": false
   },
   "outputs": [],
   "source": [
    "nom_query = '''\n",
    "select ceremonies.id as ceremony_id, nominations.category as category, \n",
    "nominations.nominee as nominee, nominations.movie as movie, \n",
    "nominations.character as character, nominations.won as won\n",
    "from nominations\n",
    "inner join ceremonies \n",
    "on nominations.year == ceremonies.year\n",
    ";\n",
    "'''\n",
    "\n",
    "joined_nominations = conn.execute(nom_query).fetchall()"
   ]
  },
  {
   "cell_type": "code",
   "execution_count": 46,
   "metadata": {
    "collapsed": false
   },
   "outputs": [
    {
     "name": "stdout",
     "output_type": "stream",
     "text": [
      "[(1, 'Actor -- Leading Role', 'Javier Bardem', 'Biutiful', 'Uxbal', 0, None), (2, 'Actor -- Leading Role', 'Javier Bardem', 'Biutiful', 'Uxbal', 0, 1), (3, 'Actor -- Leading Role', 'Jeff Bridges', 'True Grit', 'Rooster Cogburn', 0, 1), (4, 'Actor -- Leading Role', 'Jesse Eisenberg', 'The Social Network', 'Mark Zuckerberg', 0, 1), (5, 'Actor -- Leading Role', 'Colin Firth', \"The King's Speech\", 'King George VI', 1, 1)]\n"
     ]
    }
   ],
   "source": [
    "print(conn.execute(\"select * from nominations_two limit 5;\").fetchall())"
   ]
  },
  {
   "cell_type": "code",
   "execution_count": 45,
   "metadata": {
    "collapsed": false
   },
   "outputs": [
    {
     "data": {
      "text/plain": [
       "<sqlite3.Cursor at 0x4c6ff80>"
      ]
     },
     "execution_count": 45,
     "metadata": {},
     "output_type": "execute_result"
    }
   ],
   "source": [
    "insert_query = \"INSERT INTO nominations_two (ceremony_id, category, nominee, movie, character, won) VALUES (?,?,?,?,?,?);\"\n",
    "conn.executemany(insert_query, joined_nominations)"
   ]
  },
  {
   "cell_type": "code",
   "execution_count": 47,
   "metadata": {
    "collapsed": false
   },
   "outputs": [
    {
     "data": {
      "text/plain": [
       "<sqlite3.Cursor at 0x4c6ff10>"
      ]
     },
     "execution_count": 47,
     "metadata": {},
     "output_type": "execute_result"
    }
   ],
   "source": [
    "conn.execute(\"DROP TABLE nominations;\")\n",
    "conn.execute(\"ALTER TABLE nominations_two RENAME TO nominations;\")"
   ]
  },
  {
   "cell_type": "code",
   "execution_count": 50,
   "metadata": {
    "collapsed": false
   },
   "outputs": [
    {
     "data": {
      "text/plain": [
       "<sqlite3.Cursor at 0x4ca19d0>"
      ]
     },
     "execution_count": 50,
     "metadata": {},
     "output_type": "execute_result"
    }
   ],
   "source": [
    "conn.execute(\"drop table movies\")\n",
    "conn.execute(\"drop table actors\")\n",
    "\n",
    "create_movies = \"create table movies (id integer primary key,movie text);\"\n",
    "create_actors = \"create table actors (id integer primary key,actor text);\"\n",
    "create_movieactors = '''create table movies_actors (\n",
    "id integer primary key,\n",
    "movie_id integer,\n",
    "actor_id integer,\n",
    "FOREIGN KEY(movie_id) REFERENCES movies(id),\n",
    "FOREIGN KEY(actor_id) REFERENCES actors(id));\n",
    "'''\n",
    "\n",
    "conn.execute(create_movies)\n",
    "conn.execute(create_actors)\n",
    "conn.execute(create_movieactors)\n"
   ]
  },
  {
   "cell_type": "code",
   "execution_count": 51,
   "metadata": {
    "collapsed": false
   },
   "outputs": [
    {
     "name": "stdout",
     "output_type": "stream",
     "text": [
      "[(1, 'Biutiful'), (2, 'True Grit'), (3, 'The Social Network'), (4, \"The King's Speech\"), (5, '127 Hours')]\n",
      "[(1, 'Javier Bardem'), (2, 'Jeff Bridges'), (3, 'Jesse Eisenberg'), (4, 'Colin Firth'), (5, 'James Franco')]\n"
     ]
    }
   ],
   "source": [
    "insert_movies = \"insert into movies (movie) select distinct movie from nominations;\"\n",
    "insert_actors = \"insert into actors (actor) select distinct nominee from nominations;\"\n",
    "conn.execute(insert_movies)\n",
    "conn.execute(insert_actors)\n",
    "\n",
    "print(conn.execute(\"select * from movies limit 5;\").fetchall())\n",
    "print(conn.execute(\"select * from actors limit 5;\").fetchall())"
   ]
  },
  {
   "cell_type": "code",
   "execution_count": 52,
   "metadata": {
    "collapsed": false
   },
   "outputs": [
    {
     "name": "stdout",
     "output_type": "stream",
     "text": [
      "[('Biutiful', 'Javier Bardem'), ('Biutiful', 'Javier Bardem'), ('True Grit', 'Jeff Bridges'), ('The Social Network', 'Jesse Eisenberg'), (\"The King's Speech\", 'Colin Firth'), ('127 Hours', 'James Franco'), ('The Fighter', 'Christian Bale'), (\"Winter's Bone\", 'John Hawkes'), ('The Town', 'Jeremy Renner'), ('The Kids Are All Right', 'Mark Ruffalo'), (\"The King's Speech\", 'Geoffrey Rush'), ('The Kids Are All Right', 'Annette Bening'), ('Rabbit Hole', 'Nicole Kidman'), (\"Winter's Bone\", 'Jennifer Lawrence'), ('Black Swan', 'Natalie Portman'), ('Blue Valentine', 'Michelle Williams'), ('The Fighter', 'Amy Adams'), (\"The King's Speech\", 'Helena Bonham Carter'), ('The Fighter', 'Melissa Leo'), ('True Grit', 'Hailee Steinfeld'), ('Animal Kingdom', 'Jacki Weaver'), ('Crazy Heart', 'Jeff Bridges'), ('Up in the Air', 'George Clooney'), ('A Single Man', 'Colin Firth'), ('Invictus', 'Morgan Freeman'), ('The Hurt Locker', 'Jeremy Renner'), ('Invictus', 'Matt Damon'), ('The Messenger', 'Woody Harrelson'), ('The Last Station', 'Christopher Plummer'), ('The Lovely Bones', 'Stanley Tucci'), ('Inglourious Basterds', 'Christoph Waltz'), ('The Blind Side', 'Sandra Bullock'), ('The Last Station', 'Helen Mirren'), ('An Education', 'Carey Mulligan'), (\"Precious: Based on the Novel 'Push' by Sapphire\", 'Gabourey Sidibe'), ('Julie & Julia', 'Meryl Streep'), ('Nine', 'Penélope Cruz'), ('Up in the Air', 'Vera Farmiga'), ('Crazy Heart', 'Maggie Gyllenhaal'), ('Up in the Air', 'Anna Kendrick'), (\"Precious: Based on the Novel 'Push' by Sapphire\", \"Mo'Nique\"), ('The Visitor', 'Richard Jenkins'), ('Frost/Nixon', 'Frank Langella'), ('Milk', 'Sean Penn'), ('The Curious Case of Benjamin Button', 'Brad Pitt'), ('The Wrestler', 'Mickey Rourke'), ('Milk', 'Josh Brolin'), ('Tropic Thunder', 'Robert Downey Jr.'), ('Doubt', 'Philip Seymour Hoffman'), ('The Dark Knight', 'Heath Ledger'), ('Revolutionary Road', 'Michael Shannon'), ('Rachel Getting Married', 'Anne Hathaway'), ('Changeling', 'Angelina Jolie'), ('Frozen River', 'Melissa Leo'), ('Doubt', 'Meryl Streep'), ('The Reader', 'Kate Winslet'), ('Doubt', 'Amy Adams'), ('Vicky Cristina Barcelona', 'Penélope Cruz'), ('Doubt', 'Viola Davis'), ('The Curious Case of Benjamin Button', 'Taraji P. Henson'), ('The Wrestler', 'Marisa Tomei'), ('Michael Clayton', 'George Clooney'), ('There Will Be Blood', 'Daniel Day-Lewis'), ('Sweeney Todd The Demon Barber of Fleet Street', 'Johnny Depp'), ('In the Valley of Elah', 'Tommy Lee Jones'), ('Eastern Promises', 'Viggo Mortensen'), ('The Assassination of Jesse James by the Coward Robert Ford', 'Casey Affleck'), ('No Country for Old Men', 'Javier Bardem'), (\"Charlie Wilson's War\", 'Philip Seymour Hoffman'), ('Into the Wild', 'Hal Holbrook'), ('Michael Clayton', 'Tom Wilkinson'), ('Elizabeth: The Golden Age', 'Cate Blanchett'), ('Away from Her', 'Julie Christie'), ('La Vie en Rose', 'Marion Cotillard'), ('The Savages', 'Laura Linney'), ('Juno', 'Ellen Page'), (\"I'm Not There\", 'Cate Blanchett'), ('American Gangster', 'Ruby Dee'), ('Atonement', 'Saoirse Ronan'), ('Gone Baby Gone', 'Amy Ryan'), ('Michael Clayton', 'Tilda Swinton'), ('Blood Diamond', 'Leonardo DiCaprio'), ('Half Nelson', 'Ryan Gosling'), ('Venus', \"Peter O'Toole\"), ('The Pursuit of Happyness', 'Will Smith'), ('The Last King of Scotland', 'Forest Whitaker'), ('Little Miss Sunshine', 'Alan Arkin'), ('Little Children', 'Jackie Earle Haley'), ('Blood Diamond', 'Djimon Hounsou'), ('Dreamgirls', 'Eddie Murphy'), ('The Departed', 'Mark Wahlberg'), ('Volver', 'Penélope Cruz'), ('Notes on a Scandal', 'Judi Dench'), ('The Queen', 'Helen Mirren'), ('The Devil Wears Prada', 'Meryl Streep'), ('Little Children', 'Kate Winslet'), ('Babel', 'Adriana Barraza'), ('Notes on a Scandal', 'Cate Blanchett'), ('Little Miss Sunshine', 'Abigail Breslin'), ('Dreamgirls', 'Jennifer Hudson'), ('Babel', 'Rinko Kikuchi'), ('Capote', 'Philip Seymour Hoffman'), ('Hustle & Flow', 'Terrence Howard'), ('Brokeback Mountain', 'Heath Ledger'), ('Walk the Line', 'Joaquin Phoenix'), ('Good Night, and Good Luck.', 'David Strathairn'), ('Syriana', 'George Clooney'), ('Crash', 'Matt Dillon'), ('Cinderella Man', 'Paul Giamatti'), ('Brokeback Mountain', 'Jake Gyllenhaal'), ('A History of Violence', 'William Hurt'), ('Mrs. Henderson Presents', 'Judi Dench'), ('Transamerica', 'Felicity Huffman'), ('Pride & Prejudice', 'Keira Knightley'), ('North Country', 'Charlize Theron'), ('Walk the Line', 'Reese Witherspoon'), ('Junebug', 'Amy Adams'), ('Capote', 'Catherine Keener'), ('North Country', 'Frances McDormand'), ('The Constant Gardener', 'Rachel Weisz'), ('Brokeback Mountain', 'Michelle Williams'), ('Hotel Rwanda', 'Don Cheadle'), ('Finding Neverland', 'Johnny Depp'), ('The Aviator', 'Leonardo DiCaprio'), ('Million Dollar Baby', 'Clint Eastwood'), ('Ray', 'Jamie Foxx'), ('The Aviator', 'Alan Alda'), ('Sideways', 'Thomas Haden Church'), ('Collateral', 'Jamie Foxx'), ('Million Dollar Baby', 'Morgan Freeman'), ('Closer', 'Clive Owen'), ('Being Julia', 'Annette Bening'), ('Maria Full of Grace', 'Catalina Sandino Moreno'), ('Vera Drake', 'Imelda Staunton'), ('Million Dollar Baby', 'Hilary Swank'), ('Eternal Sunshine of the Spotless Mind', 'Kate Winslet'), ('The Aviator', 'Cate Blanchett'), ('Kinsey', 'Laura Linney'), ('Sideways', 'Virginia Madsen'), ('Hotel Rwanda', 'Sophie Okonedo'), ('Closer', 'Natalie Portman'), ('Pirates of the Caribbean: The Curse of the Black Pearl', 'Johnny Depp'), ('House of Sand and Fog', 'Ben Kingsley'), ('Cold Mountain', 'Jude Law'), ('Lost in Translation', 'Bill Murray'), ('Mystic River', 'Sean Penn'), ('The Cooler', 'Alec Baldwin'), ('21 Grams', 'Benicio Del Toro'), ('In America', 'Djimon Hounsou'), ('Mystic River', 'Tim Robbins'), ('The Last Samurai', 'Ken Watanabe'), ('Whale Rider', 'Keisha Castle-Hughes'), (\"Something's Gotta Give\", 'Diane Keaton'), ('In America', 'Samantha Morton'), ('Monster', 'Charlize Theron'), ('21 Grams', 'Naomi Watts'), ('House of Sand and Fog', 'Shohreh Aghdashloo'), ('Pieces of April', 'Patricia Clarkson'), ('Mystic River', 'Marcia Gay Harden'), ('Thirteen', 'Holly Hunter'), ('Cold Mountain', 'Renée Zellweger'), ('The Pianist', 'Adrien Brody'), ('Adaptation', 'Nicolas Cage'), ('The Quiet American', 'Michael Caine'), ('Gangs of New York', 'Daniel Day-Lewis'), ('About Schmidt', 'Jack Nicholson'), ('Adaptation', 'Chris Cooper'), ('The Hours', 'Ed Harris'), ('Road to Perdition', 'Paul Newman'), ('Chicago', 'John C. Reilly'), ('Catch Me If You Can', 'Christopher Walken'), ('Frida', 'Salma Hayek'), ('The Hours', 'Nicole Kidman'), ('Unfaithful', 'Diane Lane'), ('Far from Heaven', 'Julianne Moore'), ('Chicago', 'Renée Zellweger'), ('About Schmidt', 'Kathy Bates'), ('The Hours', 'Julianne Moore'), ('Chicago', 'Queen Latifah'), ('Adaptation', 'Meryl Streep'), ('Chicago', 'Catherine Zeta-Jones'), ('A Beautiful Mind', 'Russell Crowe'), ('I Am Sam', 'Sean Penn'), ('Ali', 'Will Smith'), ('Training Day', 'Denzel Washington'), ('In the Bedroom', 'Tom Wilkinson'), ('Iris', 'Jim Broadbent'), ('Training Day', 'Ethan Hawke'), ('Sexy Beast', 'Ben Kingsley'), ('The Lord of the Rings: The Fellowship of the Ring', 'Ian McKellen'), ('Ali', 'Jon Voight'), (\"Monster's Ball\", 'Halle Berry'), ('Iris', 'Judi Dench'), ('Moulin Rouge', 'Nicole Kidman'), ('In the Bedroom', 'Sissy Spacek'), (\"Bridget Jones's Diary\", 'Renée Zellweger'), ('A Beautiful Mind', 'Jennifer Connelly'), ('Gosford Park', 'Helen Mirren'), ('Gosford Park', 'Maggie Smith'), ('In the Bedroom', 'Marisa Tomei'), ('Iris', 'Kate Winslet')]\n"
     ]
    }
   ],
   "source": [
    "pairs_query = \"select movie,nominee from nominations;\"\n",
    "movie_actor_pairs = conn.execute(pairs_query).fetchall()\n",
    "print(movie_actor_pairs)"
   ]
  },
  {
   "cell_type": "code",
   "execution_count": 53,
   "metadata": {
    "collapsed": false
   },
   "outputs": [
    {
     "name": "stdout",
     "output_type": "stream",
     "text": [
      "[(1, 1, 1), (2, 1, 1), (3, 2, 2), (4, 3, 3), (5, 4, 4)]\n"
     ]
    }
   ],
   "source": [
    "join_table_insert = \"insert into movies_actors (movie_id, actor_id) values ((select id from movies where movie == ?),(select id from actors where actor == ?));\"\n",
    "conn.executemany(join_table_insert,movie_actor_pairs)\n",
    "\n",
    "print(conn.execute(\"select * from movies_actors limit 5;\").fetchall())"
   ]
  }
 ],
 "metadata": {
  "anaconda-cloud": {},
  "kernelspec": {
   "display_name": "Python [conda root]",
   "language": "python",
   "name": "conda-root-py"
  },
  "language_info": {
   "codemirror_mode": {
    "name": "ipython",
    "version": 3
   },
   "file_extension": ".py",
   "mimetype": "text/x-python",
   "name": "python",
   "nbconvert_exporter": "python",
   "pygments_lexer": "ipython3",
   "version": "3.5.2"
  }
 },
 "nbformat": 4,
 "nbformat_minor": 1
}
