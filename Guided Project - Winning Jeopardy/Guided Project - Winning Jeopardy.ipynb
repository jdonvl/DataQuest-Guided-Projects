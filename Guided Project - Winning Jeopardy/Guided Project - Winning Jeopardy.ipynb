{
 "cells": [
  {
   "cell_type": "markdown",
   "metadata": {},
   "source": [
    "Winning Jeopardy\n",
    "====================\n",
    "\n",
    "A DataQuest Guided Project\n",
    "---------------------\n",
    "\n",
    "In this project, I work with a dataset of Jeopardy questions to figure out some patterns in the questions that could help you win.\n",
    "\n",
    "### Import and Clean Data"
   ]
  },
  {
   "cell_type": "code",
   "execution_count": 169,
   "metadata": {
    "collapsed": false
   },
   "outputs": [
    {
     "data": {
      "text/html": [
       "<div>\n",
       "<table border=\"1\" class=\"dataframe\">\n",
       "  <thead>\n",
       "    <tr style=\"text-align: right;\">\n",
       "      <th></th>\n",
       "      <th>Show Number</th>\n",
       "      <th>Air Date</th>\n",
       "      <th>Round</th>\n",
       "      <th>Category</th>\n",
       "      <th>Value</th>\n",
       "      <th>Question</th>\n",
       "      <th>Answer</th>\n",
       "    </tr>\n",
       "  </thead>\n",
       "  <tbody>\n",
       "    <tr>\n",
       "      <th>0</th>\n",
       "      <td>4680</td>\n",
       "      <td>2004-12-31</td>\n",
       "      <td>Jeopardy!</td>\n",
       "      <td>HISTORY</td>\n",
       "      <td>$200</td>\n",
       "      <td>For the last 8 years of his life, Galileo was under house arrest for espousing this man's theory</td>\n",
       "      <td>Copernicus</td>\n",
       "    </tr>\n",
       "    <tr>\n",
       "      <th>1</th>\n",
       "      <td>4680</td>\n",
       "      <td>2004-12-31</td>\n",
       "      <td>Jeopardy!</td>\n",
       "      <td>ESPN's TOP 10 ALL-TIME ATHLETES</td>\n",
       "      <td>$200</td>\n",
       "      <td>No. 2: 1912 Olympian; football star at Carlisle Indian School; 6 MLB seasons with the Reds, Giants &amp; Braves</td>\n",
       "      <td>Jim Thorpe</td>\n",
       "    </tr>\n",
       "    <tr>\n",
       "      <th>2</th>\n",
       "      <td>4680</td>\n",
       "      <td>2004-12-31</td>\n",
       "      <td>Jeopardy!</td>\n",
       "      <td>EVERYBODY TALKS ABOUT IT...</td>\n",
       "      <td>$200</td>\n",
       "      <td>The city of Yuma in this state has a record average of 4,055 hours of sunshine each year</td>\n",
       "      <td>Arizona</td>\n",
       "    </tr>\n",
       "    <tr>\n",
       "      <th>3</th>\n",
       "      <td>4680</td>\n",
       "      <td>2004-12-31</td>\n",
       "      <td>Jeopardy!</td>\n",
       "      <td>THE COMPANY LINE</td>\n",
       "      <td>$200</td>\n",
       "      <td>In 1963, live on \"The Art Linkletter Show\", this company served its billionth burger</td>\n",
       "      <td>McDonald's</td>\n",
       "    </tr>\n",
       "    <tr>\n",
       "      <th>4</th>\n",
       "      <td>4680</td>\n",
       "      <td>2004-12-31</td>\n",
       "      <td>Jeopardy!</td>\n",
       "      <td>EPITAPHS &amp; TRIBUTES</td>\n",
       "      <td>$200</td>\n",
       "      <td>Signer of the Dec. of Indep., framer of the Constitution of Mass., second President of the United States</td>\n",
       "      <td>John Adams</td>\n",
       "    </tr>\n",
       "  </tbody>\n",
       "</table>\n",
       "</div>"
      ],
      "text/plain": [
       "   Show Number    Air Date      Round                         Category  Value  \\\n",
       "0         4680  2004-12-31  Jeopardy!                          HISTORY   $200   \n",
       "1         4680  2004-12-31  Jeopardy!  ESPN's TOP 10 ALL-TIME ATHLETES   $200   \n",
       "2         4680  2004-12-31  Jeopardy!      EVERYBODY TALKS ABOUT IT...   $200   \n",
       "3         4680  2004-12-31  Jeopardy!                 THE COMPANY LINE   $200   \n",
       "4         4680  2004-12-31  Jeopardy!              EPITAPHS & TRIBUTES   $200   \n",
       "\n",
       "                                                                                                      Question  \\\n",
       "0             For the last 8 years of his life, Galileo was under house arrest for espousing this man's theory   \n",
       "1  No. 2: 1912 Olympian; football star at Carlisle Indian School; 6 MLB seasons with the Reds, Giants & Braves   \n",
       "2                     The city of Yuma in this state has a record average of 4,055 hours of sunshine each year   \n",
       "3                         In 1963, live on \"The Art Linkletter Show\", this company served its billionth burger   \n",
       "4     Signer of the Dec. of Indep., framer of the Constitution of Mass., second President of the United States   \n",
       "\n",
       "       Answer  \n",
       "0  Copernicus  \n",
       "1  Jim Thorpe  \n",
       "2     Arizona  \n",
       "3  McDonald's  \n",
       "4  John Adams  "
      ]
     },
     "execution_count": 169,
     "metadata": {},
     "output_type": "execute_result"
    }
   ],
   "source": [
    "import pandas as pd\n",
    "jeopardy = pd.read_csv(\"jeopardy.csv\")\n",
    "jeopardy.head()"
   ]
  },
  {
   "cell_type": "code",
   "execution_count": 170,
   "metadata": {
    "collapsed": false
   },
   "outputs": [
    {
     "data": {
      "text/plain": [
       "Index(['Show Number', ' Air Date', ' Round', ' Category', ' Value',\n",
       "       ' Question', ' Answer'],\n",
       "      dtype='object')"
      ]
     },
     "execution_count": 170,
     "metadata": {},
     "output_type": "execute_result"
    }
   ],
   "source": [
    "jeopardy.columns"
   ]
  },
  {
   "cell_type": "code",
   "execution_count": 171,
   "metadata": {
    "collapsed": false
   },
   "outputs": [
    {
     "data": {
      "text/plain": [
       "Index(['Show Number', 'Air Date', 'Round', 'Category', 'Value', 'Question',\n",
       "       'Answer'],\n",
       "      dtype='object')"
      ]
     },
     "execution_count": 171,
     "metadata": {},
     "output_type": "execute_result"
    }
   ],
   "source": [
    "jeopardy.rename(columns=lambda x: x.strip(), inplace=True)\n",
    "jeopardy.columns"
   ]
  },
  {
   "cell_type": "code",
   "execution_count": 172,
   "metadata": {
    "collapsed": false
   },
   "outputs": [
    {
     "data": {
      "text/html": [
       "<div>\n",
       "<table border=\"1\" class=\"dataframe\">\n",
       "  <thead>\n",
       "    <tr style=\"text-align: right;\">\n",
       "      <th></th>\n",
       "      <th>Show Number</th>\n",
       "      <th>Air Date</th>\n",
       "      <th>Round</th>\n",
       "      <th>Category</th>\n",
       "      <th>Value</th>\n",
       "      <th>Question</th>\n",
       "      <th>Answer</th>\n",
       "      <th>clean_question</th>\n",
       "      <th>clean_answer</th>\n",
       "      <th>clean_value</th>\n",
       "    </tr>\n",
       "  </thead>\n",
       "  <tbody>\n",
       "    <tr>\n",
       "      <th>0</th>\n",
       "      <td>4680</td>\n",
       "      <td>2004-12-31</td>\n",
       "      <td>Jeopardy!</td>\n",
       "      <td>HISTORY</td>\n",
       "      <td>$200</td>\n",
       "      <td>For the last 8 years of his life, Galileo was under house arrest for espousing this man's theory</td>\n",
       "      <td>Copernicus</td>\n",
       "      <td>for the last 8 years of his life galileo was under house arrest for espousing this mans theory</td>\n",
       "      <td>copernicus</td>\n",
       "      <td>200</td>\n",
       "    </tr>\n",
       "    <tr>\n",
       "      <th>1</th>\n",
       "      <td>4680</td>\n",
       "      <td>2004-12-31</td>\n",
       "      <td>Jeopardy!</td>\n",
       "      <td>ESPN's TOP 10 ALL-TIME ATHLETES</td>\n",
       "      <td>$200</td>\n",
       "      <td>No. 2: 1912 Olympian; football star at Carlisle Indian School; 6 MLB seasons with the Reds, Giants &amp; Braves</td>\n",
       "      <td>Jim Thorpe</td>\n",
       "      <td>no 2 1912 olympian football star at carlisle indian school 6 mlb seasons with the reds giants  braves</td>\n",
       "      <td>jim thorpe</td>\n",
       "      <td>200</td>\n",
       "    </tr>\n",
       "    <tr>\n",
       "      <th>2</th>\n",
       "      <td>4680</td>\n",
       "      <td>2004-12-31</td>\n",
       "      <td>Jeopardy!</td>\n",
       "      <td>EVERYBODY TALKS ABOUT IT...</td>\n",
       "      <td>$200</td>\n",
       "      <td>The city of Yuma in this state has a record average of 4,055 hours of sunshine each year</td>\n",
       "      <td>Arizona</td>\n",
       "      <td>the city of yuma in this state has a record average of 4055 hours of sunshine each year</td>\n",
       "      <td>arizona</td>\n",
       "      <td>200</td>\n",
       "    </tr>\n",
       "    <tr>\n",
       "      <th>3</th>\n",
       "      <td>4680</td>\n",
       "      <td>2004-12-31</td>\n",
       "      <td>Jeopardy!</td>\n",
       "      <td>THE COMPANY LINE</td>\n",
       "      <td>$200</td>\n",
       "      <td>In 1963, live on \"The Art Linkletter Show\", this company served its billionth burger</td>\n",
       "      <td>McDonald's</td>\n",
       "      <td>in 1963 live on the art linkletter show this company served its billionth burger</td>\n",
       "      <td>mcdonalds</td>\n",
       "      <td>200</td>\n",
       "    </tr>\n",
       "    <tr>\n",
       "      <th>4</th>\n",
       "      <td>4680</td>\n",
       "      <td>2004-12-31</td>\n",
       "      <td>Jeopardy!</td>\n",
       "      <td>EPITAPHS &amp; TRIBUTES</td>\n",
       "      <td>$200</td>\n",
       "      <td>Signer of the Dec. of Indep., framer of the Constitution of Mass., second President of the United States</td>\n",
       "      <td>John Adams</td>\n",
       "      <td>signer of the dec of indep framer of the constitution of mass second president of the united states</td>\n",
       "      <td>john adams</td>\n",
       "      <td>200</td>\n",
       "    </tr>\n",
       "    <tr>\n",
       "      <th>5</th>\n",
       "      <td>4680</td>\n",
       "      <td>2004-12-31</td>\n",
       "      <td>Jeopardy!</td>\n",
       "      <td>3-LETTER WORDS</td>\n",
       "      <td>$200</td>\n",
       "      <td>In the title of an Aesop fable, this insect shared billing with a grasshopper</td>\n",
       "      <td>the ant</td>\n",
       "      <td>in the title of an aesop fable this insect shared billing with a grasshopper</td>\n",
       "      <td>the ant</td>\n",
       "      <td>200</td>\n",
       "    </tr>\n",
       "    <tr>\n",
       "      <th>6</th>\n",
       "      <td>4680</td>\n",
       "      <td>2004-12-31</td>\n",
       "      <td>Jeopardy!</td>\n",
       "      <td>HISTORY</td>\n",
       "      <td>$400</td>\n",
       "      <td>Built in 312 B.C. to link Rome &amp; the South of Italy, it's still in use today</td>\n",
       "      <td>the Appian Way</td>\n",
       "      <td>built in 312 bc to link rome  the south of italy its still in use today</td>\n",
       "      <td>the appian way</td>\n",
       "      <td>400</td>\n",
       "    </tr>\n",
       "    <tr>\n",
       "      <th>7</th>\n",
       "      <td>4680</td>\n",
       "      <td>2004-12-31</td>\n",
       "      <td>Jeopardy!</td>\n",
       "      <td>ESPN's TOP 10 ALL-TIME ATHLETES</td>\n",
       "      <td>$400</td>\n",
       "      <td>No. 8: 30 steals for the Birmingham Barons; 2,306 steals for the Bulls</td>\n",
       "      <td>Michael Jordan</td>\n",
       "      <td>no 8 30 steals for the birmingham barons 2306 steals for the bulls</td>\n",
       "      <td>michael jordan</td>\n",
       "      <td>400</td>\n",
       "    </tr>\n",
       "    <tr>\n",
       "      <th>8</th>\n",
       "      <td>4680</td>\n",
       "      <td>2004-12-31</td>\n",
       "      <td>Jeopardy!</td>\n",
       "      <td>EVERYBODY TALKS ABOUT IT...</td>\n",
       "      <td>$400</td>\n",
       "      <td>In the winter of 1971-72, a record 1,122 inches of snow fell at Rainier Paradise Ranger Station in this state</td>\n",
       "      <td>Washington</td>\n",
       "      <td>in the winter of 197172 a record 1122 inches of snow fell at rainier paradise ranger station in this state</td>\n",
       "      <td>washington</td>\n",
       "      <td>400</td>\n",
       "    </tr>\n",
       "    <tr>\n",
       "      <th>9</th>\n",
       "      <td>4680</td>\n",
       "      <td>2004-12-31</td>\n",
       "      <td>Jeopardy!</td>\n",
       "      <td>THE COMPANY LINE</td>\n",
       "      <td>$400</td>\n",
       "      <td>This housewares store was named for the packaging its merchandise came in &amp; was first displayed on</td>\n",
       "      <td>Crate &amp; Barrel</td>\n",
       "      <td>this housewares store was named for the packaging its merchandise came in  was first displayed on</td>\n",
       "      <td>crate  barrel</td>\n",
       "      <td>400</td>\n",
       "    </tr>\n",
       "  </tbody>\n",
       "</table>\n",
       "</div>"
      ],
      "text/plain": [
       "   Show Number   Air Date      Round                         Category Value  \\\n",
       "0         4680 2004-12-31  Jeopardy!                          HISTORY  $200   \n",
       "1         4680 2004-12-31  Jeopardy!  ESPN's TOP 10 ALL-TIME ATHLETES  $200   \n",
       "2         4680 2004-12-31  Jeopardy!      EVERYBODY TALKS ABOUT IT...  $200   \n",
       "3         4680 2004-12-31  Jeopardy!                 THE COMPANY LINE  $200   \n",
       "4         4680 2004-12-31  Jeopardy!              EPITAPHS & TRIBUTES  $200   \n",
       "5         4680 2004-12-31  Jeopardy!                   3-LETTER WORDS  $200   \n",
       "6         4680 2004-12-31  Jeopardy!                          HISTORY  $400   \n",
       "7         4680 2004-12-31  Jeopardy!  ESPN's TOP 10 ALL-TIME ATHLETES  $400   \n",
       "8         4680 2004-12-31  Jeopardy!      EVERYBODY TALKS ABOUT IT...  $400   \n",
       "9         4680 2004-12-31  Jeopardy!                 THE COMPANY LINE  $400   \n",
       "\n",
       "                                                                                                        Question  \\\n",
       "0               For the last 8 years of his life, Galileo was under house arrest for espousing this man's theory   \n",
       "1    No. 2: 1912 Olympian; football star at Carlisle Indian School; 6 MLB seasons with the Reds, Giants & Braves   \n",
       "2                       The city of Yuma in this state has a record average of 4,055 hours of sunshine each year   \n",
       "3                           In 1963, live on \"The Art Linkletter Show\", this company served its billionth burger   \n",
       "4       Signer of the Dec. of Indep., framer of the Constitution of Mass., second President of the United States   \n",
       "5                                  In the title of an Aesop fable, this insect shared billing with a grasshopper   \n",
       "6                                   Built in 312 B.C. to link Rome & the South of Italy, it's still in use today   \n",
       "7                                         No. 8: 30 steals for the Birmingham Barons; 2,306 steals for the Bulls   \n",
       "8  In the winter of 1971-72, a record 1,122 inches of snow fell at Rainier Paradise Ranger Station in this state   \n",
       "9             This housewares store was named for the packaging its merchandise came in & was first displayed on   \n",
       "\n",
       "           Answer  \\\n",
       "0      Copernicus   \n",
       "1      Jim Thorpe   \n",
       "2         Arizona   \n",
       "3      McDonald's   \n",
       "4      John Adams   \n",
       "5         the ant   \n",
       "6  the Appian Way   \n",
       "7  Michael Jordan   \n",
       "8      Washington   \n",
       "9  Crate & Barrel   \n",
       "\n",
       "                                                                                               clean_question  \\\n",
       "0              for the last 8 years of his life galileo was under house arrest for espousing this mans theory   \n",
       "1       no 2 1912 olympian football star at carlisle indian school 6 mlb seasons with the reds giants  braves   \n",
       "2                     the city of yuma in this state has a record average of 4055 hours of sunshine each year   \n",
       "3                            in 1963 live on the art linkletter show this company served its billionth burger   \n",
       "4         signer of the dec of indep framer of the constitution of mass second president of the united states   \n",
       "5                                in the title of an aesop fable this insect shared billing with a grasshopper   \n",
       "6                                     built in 312 bc to link rome  the south of italy its still in use today   \n",
       "7                                          no 8 30 steals for the birmingham barons 2306 steals for the bulls   \n",
       "8  in the winter of 197172 a record 1122 inches of snow fell at rainier paradise ranger station in this state   \n",
       "9           this housewares store was named for the packaging its merchandise came in  was first displayed on   \n",
       "\n",
       "     clean_answer  clean_value  \n",
       "0      copernicus          200  \n",
       "1      jim thorpe          200  \n",
       "2         arizona          200  \n",
       "3       mcdonalds          200  \n",
       "4      john adams          200  \n",
       "5         the ant          200  \n",
       "6  the appian way          400  \n",
       "7  michael jordan          400  \n",
       "8      washington          400  \n",
       "9   crate  barrel          400  "
      ]
     },
     "execution_count": 172,
     "metadata": {},
     "output_type": "execute_result"
    }
   ],
   "source": [
    "##https://stackoverflow.com/questions/34293875/how-to-remove-punctuation-marks-from-a-string-in-python-3-x-using-translate\n",
    "import string\n",
    "\n",
    "def removePun(x):\n",
    "    translator = str.maketrans(\"\", \"\", string.punctuation)\n",
    "    return x.lower().translate(translator)\n",
    "\n",
    "#def removePun(text):\n",
    "#    text = text.lower()\n",
    "#    text = re.sub(\"[^A-Za-z0-9\\s]\", \"\", text)\n",
    "#    return text\n",
    "\n",
    "\n",
    "jeopardy[\"clean_question\"] = jeopardy[\"Question\"].apply(removePun)\n",
    "jeopardy[\"clean_answer\"] = jeopardy[\"Answer\"].apply(removePun)\n",
    "\n",
    "import re\n",
    "\n",
    "def normalize_values(text):\n",
    "    text = re.sub(\"[^\\d\\.]\", \"\", text)\n",
    "    try:\n",
    "        text = int(text)\n",
    "    except Exception:\n",
    "        text = 0\n",
    "    return text\n",
    "\n",
    "jeopardy[\"clean_value\"] = jeopardy[\"Value\"].apply(normalize_values)\n",
    "jeopardy[\"Air Date\"] = pd.to_datetime(jeopardy[\"Air Date\"])\n",
    "\n",
    "jeopardy.head(10)"
   ]
  },
  {
   "cell_type": "code",
   "execution_count": 173,
   "metadata": {
    "collapsed": false
   },
   "outputs": [
    {
     "data": {
      "text/plain": [
       "0.05820696157463009"
      ]
     },
     "execution_count": 173,
     "metadata": {},
     "output_type": "execute_result"
    }
   ],
   "source": [
    "def overlap(row):\n",
    "    match_count = 0\n",
    "    split_question = row[\"clean_question\"].split(\" \")\n",
    "    split_question = [i for i in split_question if i != \"the\" and i != '']\n",
    "\n",
    "    split_answer = row[\"clean_answer\"].split(\" \")\n",
    "    split_answer = [i for i in split_answer if i != \"the\" and i != '']\n",
    "\n",
    "    try:\n",
    "        for item in split_answer:\n",
    "            if item in split_question:\n",
    "                match_count += 1\n",
    "        return match_count / len(split_answer)\n",
    "    except:\n",
    "        return 0\n",
    "                \n",
    "jeopardy[\"answer_in_question\"] = jeopardy.apply(overlap, axis=1)\n",
    "mean_answer = jeopardy[\"answer_in_question\"].mean()\n",
    "mean_answer"
   ]
  },
  {
   "cell_type": "markdown",
   "metadata": {},
   "source": [
    "There's approximately a 6% overlap of questions in answers. Below shows some examples."
   ]
  },
  {
   "cell_type": "code",
   "execution_count": 174,
   "metadata": {
    "collapsed": false
   },
   "outputs": [
    {
     "data": {
      "text/html": [
       "<div>\n",
       "<table border=\"1\" class=\"dataframe\">\n",
       "  <thead>\n",
       "    <tr style=\"text-align: right;\">\n",
       "      <th></th>\n",
       "      <th>clean_question</th>\n",
       "      <th>clean_answer</th>\n",
       "      <th>answer_in_question</th>\n",
       "    </tr>\n",
       "  </thead>\n",
       "  <tbody>\n",
       "    <tr>\n",
       "      <th>14</th>\n",
       "      <td>on june 28 1994 the natl weather service began issuing this index that rates the intensity of the suns radiation</td>\n",
       "      <td>the uv index</td>\n",
       "      <td>0.5</td>\n",
       "    </tr>\n",
       "    <tr>\n",
       "      <th>24</th>\n",
       "      <td>this asian political party was founded in 1885 with indian national as part of its name</td>\n",
       "      <td>the congress party</td>\n",
       "      <td>0.5</td>\n",
       "    </tr>\n",
       "    <tr>\n",
       "      <th>31</th>\n",
       "      <td>it can be a place to leave your puppy when you take a trip or a carrier for him that fits under an airplane seat</td>\n",
       "      <td>a kennel</td>\n",
       "      <td>0.5</td>\n",
       "    </tr>\n",
       "    <tr>\n",
       "      <th>38</th>\n",
       "      <td>during the 19541955 sun sessions elvis climbed aboard this train sixteen coaches long</td>\n",
       "      <td>the mystery train</td>\n",
       "      <td>0.5</td>\n",
       "    </tr>\n",
       "    <tr>\n",
       "      <th>53</th>\n",
       "      <td>in 1961 james brown announced all aboard for this train</td>\n",
       "      <td>night train</td>\n",
       "      <td>0.5</td>\n",
       "    </tr>\n",
       "    <tr>\n",
       "      <th>67</th>\n",
       "      <td>small slender missile thrown at a board in a game</td>\n",
       "      <td>a dart</td>\n",
       "      <td>0.5</td>\n",
       "    </tr>\n",
       "    <tr>\n",
       "      <th>68</th>\n",
       "      <td>this island in the south pacific is named for the day of its discovery a religious holiday</td>\n",
       "      <td>easter island</td>\n",
       "      <td>0.5</td>\n",
       "    </tr>\n",
       "    <tr>\n",
       "      <th>73</th>\n",
       "      <td>it can be a separating line in your hair or a role in a play</td>\n",
       "      <td>a part</td>\n",
       "      <td>0.5</td>\n",
       "    </tr>\n",
       "    <tr>\n",
       "      <th>79</th>\n",
       "      <td>a graphic representation of information</td>\n",
       "      <td>a chart</td>\n",
       "      <td>0.5</td>\n",
       "    </tr>\n",
       "    <tr>\n",
       "      <th>80</th>\n",
       "      <td>the family history you wrote for school might include entering the us at this island in new york bay</td>\n",
       "      <td>ellis island</td>\n",
       "      <td>0.5</td>\n",
       "    </tr>\n",
       "  </tbody>\n",
       "</table>\n",
       "</div>"
      ],
      "text/plain": [
       "                                                                                                      clean_question  \\\n",
       "14  on june 28 1994 the natl weather service began issuing this index that rates the intensity of the suns radiation   \n",
       "24                           this asian political party was founded in 1885 with indian national as part of its name   \n",
       "31  it can be a place to leave your puppy when you take a trip or a carrier for him that fits under an airplane seat   \n",
       "38                             during the 19541955 sun sessions elvis climbed aboard this train sixteen coaches long   \n",
       "53                                                           in 1961 james brown announced all aboard for this train   \n",
       "67                                                                 small slender missile thrown at a board in a game   \n",
       "68                        this island in the south pacific is named for the day of its discovery a religious holiday   \n",
       "73                                                      it can be a separating line in your hair or a role in a play   \n",
       "79                                                                           a graphic representation of information   \n",
       "80              the family history you wrote for school might include entering the us at this island in new york bay   \n",
       "\n",
       "          clean_answer  answer_in_question  \n",
       "14        the uv index                 0.5  \n",
       "24  the congress party                 0.5  \n",
       "31            a kennel                 0.5  \n",
       "38   the mystery train                 0.5  \n",
       "53         night train                 0.5  \n",
       "67              a dart                 0.5  \n",
       "68       easter island                 0.5  \n",
       "73              a part                 0.5  \n",
       "79             a chart                 0.5  \n",
       "80        ellis island                 0.5  "
      ]
     },
     "execution_count": 174,
     "metadata": {},
     "output_type": "execute_result"
    }
   ],
   "source": [
    "jeopardy[[\"clean_question\",\"clean_answer\",\"answer_in_question\"]][jeopardy[\"answer_in_question\"] > 0 ].head(10)"
   ]
  },
  {
   "cell_type": "markdown",
   "metadata": {},
   "source": [
    "Next, for each question create a set of words.\n",
    "Then for each question, evaluate the overlap with each other question in the dataframe.\n",
    "Get the average rate of overlap of all questions."
   ]
  },
  {
   "cell_type": "code",
   "execution_count": 177,
   "metadata": {
    "collapsed": false
   },
   "outputs": [
    {
     "data": {
      "text/plain": [
       "0.6902117143393427"
      ]
     },
     "execution_count": 177,
     "metadata": {},
     "output_type": "execute_result"
    }
   ],
   "source": [
    "question_overlap = []\n",
    "terms_used = set()\n",
    "for i, row in jeopardy.iterrows():\n",
    "        split_question = row[\"clean_question\"].split(\" \")\n",
    "        split_question = [q for q in split_question if len(q) > 5]\n",
    "        match_count = 0\n",
    "        for word in split_question:\n",
    "            if word in terms_used:\n",
    "                match_count += 1\n",
    "        for word in split_question:\n",
    "            terms_used.add(word)\n",
    "        if len(split_question) > 0:\n",
    "            match_count /= len(split_question)\n",
    "        question_overlap.append(match_count)\n",
    "jeopardy[\"question_overlap\"] = question_overlap\n",
    "\n",
    "jeopardy[\"question_overlap\"].mean()"
   ]
  },
  {
   "cell_type": "markdown",
   "metadata": {},
   "source": [
    "There is about 70% overlap between terms in new questions and terms in old questions. This only looks at a small set of questions, and it doesn't look at phrases, it looks at single terms. This makes it relatively insignificant, but it does mean that it's worth looking more into the recycling of questions.\n",
    "\n",
    "Below explores the average rate of overlap between questions in a sample of 1000 questions."
   ]
  },
  {
   "cell_type": "code",
   "execution_count": 162,
   "metadata": {
    "collapsed": false
   },
   "outputs": [
    {
     "data": {
      "text/plain": [
       "0.001634513571151063"
      ]
     },
     "execution_count": 162,
     "metadata": {},
     "output_type": "execute_result"
    }
   ],
   "source": [
    "jsample = jeopardy.sample(n=1000)\n",
    "\n",
    "def overlap_q(row):\n",
    "\n",
    "    #row = jeopardy.loc[4]\n",
    "    listofintersects = []\n",
    "    q_set = row[\"questions_sets\"]\n",
    "    q_set_len = len(row[\"questions_sets\"])\n",
    "    for i, r in jsample.iterrows():\n",
    "        new_set_len = 0\n",
    "        if i == row.name:\n",
    "            listofintersects.append(0)\n",
    "        else:\n",
    "            new_set_len = len(q_set.intersection(r[\"questions_sets\"]))\n",
    "            try:\n",
    "                listofintersects.append(new_set_len/q_set_len)\n",
    "            except:\n",
    "                listofintersects.append(0)\n",
    "\n",
    "    return (np.mean(listofintersects))\n",
    "\n",
    "jsample[\"question_overlap2\"] = jsample.apply(overlap_q, axis=1)\n",
    "mean_answer2 = jsample[\"question_overlap2\"].mean()\n",
    "mean_answer2\n",
    "        "
   ]
  },
  {
   "cell_type": "markdown",
   "metadata": {},
   "source": [
    "## Chi-Square Testing\n",
    "Below we mark questions as high value if they exceed 800. We use Chi-Square testing to evaluate if there's any significance in the terms used in high value questions as opposed to lwo value questions."
   ]
  },
  {
   "cell_type": "code",
   "execution_count": 178,
   "metadata": {
    "collapsed": true
   },
   "outputs": [],
   "source": [
    "def highorlow(row):\n",
    "    if row[\"clean_value\"] > 800:\n",
    "        value = 1\n",
    "    else: \n",
    "        value = 0\n",
    "    return value\n",
    "\n",
    "jeopardy[\"high_value\"] = jeopardy.apply(highorlow, axis=1)\n"
   ]
  },
  {
   "cell_type": "code",
   "execution_count": 179,
   "metadata": {
    "collapsed": true
   },
   "outputs": [],
   "source": [
    "def highvaloccurence(word):\n",
    "    lowcount = 0\n",
    "    highcount = 0\n",
    "    \n",
    "    for i, r in jeopardy.iterrows():\n",
    "        split_question = r[\"clean_question\"].split(\" \")\n",
    "        if word in r[\"clean_question\"]:\n",
    "            if r[\"high_value\"] == 1:\n",
    "                highcount += 1\n",
    "            else:\n",
    "                lowcount += 1\n",
    "    return highcount, lowcount\n",
    "            \n"
   ]
  },
  {
   "cell_type": "markdown",
   "metadata": {},
   "source": [
    "Sample the first 5 terms used from the earlier set. Count the occurences of each term in high value and low value questions."
   ]
  },
  {
   "cell_type": "code",
   "execution_count": 186,
   "metadata": {
    "collapsed": false
   },
   "outputs": [
    {
     "name": "stdout",
     "output_type": "stream",
     "text": [
      "['perseus', 'protogermanic', 'memphisbased', 'costome', 'deepfried']\n"
     ]
    },
    {
     "data": {
      "text/plain": [
       "[(2, 1), (1, 0), (1, 0), (1, 0), (3, 3)]"
      ]
     },
     "execution_count": 186,
     "metadata": {},
     "output_type": "execute_result"
    }
   ],
   "source": [
    "terms_used_5 = list(terms_used)[:5]\n",
    "print(terms_used_5)\n",
    "observed_expected = []\n",
    "for word in terms_used_5:\n",
    "    temp_occurence = 0\n",
    "    temp_occurence = highvaloccurence(word)\n",
    "    observed_expected.append(temp_occurence)\n",
    "    \n",
    "observed_expected"
   ]
  },
  {
   "cell_type": "code",
   "execution_count": 187,
   "metadata": {
    "collapsed": false
   },
   "outputs": [],
   "source": [
    "high_value_count = jeopardy[jeopardy[\"high_value\"]==1].shape[0]\n",
    "low_value_count = jeopardy[jeopardy[\"high_value\"]==0].shape[0]\n",
    "chi_squared = []"
   ]
  },
  {
   "cell_type": "markdown",
   "metadata": {},
   "source": [
    "Use chi-square testing to compare the observed vs expected counts."
   ]
  },
  {
   "cell_type": "code",
   "execution_count": 191,
   "metadata": {
    "collapsed": false
   },
   "outputs": [
    {
     "data": {
      "text/plain": [
       "[Power_divergenceResult(statistic=2.1177104383031944, pvalue=0.14560406868264344),\n",
       " Power_divergenceResult(statistic=2.4877921171956752, pvalue=0.11473257634454047),\n",
       " Power_divergenceResult(statistic=2.4877921171956752, pvalue=0.11473257634454047),\n",
       " Power_divergenceResult(statistic=2.4877921171956752, pvalue=0.11473257634454047),\n",
       " Power_divergenceResult(statistic=1.3346324449838385, pvalue=0.24798277007881886)]"
      ]
     },
     "execution_count": 191,
     "metadata": {},
     "output_type": "execute_result"
    }
   ],
   "source": [
    "from scipy.stats import chisquare\n",
    "\n",
    "for x, y in observed_expected:\n",
    "    total = x+y\n",
    "    total_prop = total / jeopardy.shape[0]\n",
    "    high_value_exp = total_prop * high_value_count\n",
    "    low_value_exp = total_prop * low_value_count\n",
    "    observed = np.array([x, y])\n",
    "    expected = np.array([high_value_exp, low_value_exp])\n",
    "    chi_squared.append(chisquare(observed, expected))\n",
    "    \n",
    "chi_squared\n"
   ]
  },
  {
   "cell_type": "markdown",
   "metadata": {},
   "source": [
    "All p values are > 0.05 so the results are statistically insignificant. There's no difference on the usage of these terms for high or low value questions."
   ]
  }
 ],
 "metadata": {
  "anaconda-cloud": {},
  "kernelspec": {
   "display_name": "Python [conda root]",
   "language": "python",
   "name": "conda-root-py"
  },
  "language_info": {
   "codemirror_mode": {
    "name": "ipython",
    "version": 3
   },
   "file_extension": ".py",
   "mimetype": "text/x-python",
   "name": "python",
   "nbconvert_exporter": "python",
   "pygments_lexer": "ipython3",
   "version": "3.5.2"
  }
 },
 "nbformat": 4,
 "nbformat_minor": 1
}
